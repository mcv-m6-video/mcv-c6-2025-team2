{
 "cells": [
  {
   "cell_type": "code",
   "execution_count": 1,
   "metadata": {},
   "outputs": [],
   "source": [
    "from tracker import Tracker\n",
    "import pickle as pkl\n",
    "import cv2\n",
    "import os\n",
    "import numpy as np\n",
    "import xml.etree.ElementTree as ET"
   ]
  },
  {
   "cell_type": "code",
   "execution_count": 2,
   "metadata": {},
   "outputs": [],
   "source": [
    "def process_video(video_path, annotations_path, detections_path, output_path, tracking_output):\n",
    "    with open(detections_path, 'rb') as f:\n",
    "        data = pkl.load(f)\n",
    "    \n",
    "    cap = cv2.VideoCapture(video_path)\n",
    "    width = int(cap.get(3))\n",
    "    height = int(cap.get(4))\n",
    "    fps = int(cap.get(cv2.CAP_PROP_FPS))\n",
    "    out = cv2.VideoWriter(output_path, cv2.VideoWriter_fourcc(*'XVID'), fps, (width, height))\n",
    "\n",
    "    tracker = Tracker()\n",
    "    #juntar les dos funcions següents i passar test split idx a tot arreu on hi diu 535\n",
    "    tracker.parse_bboxes_from_xml(annotations_path)\n",
    "    tracker.read_gt_ids(annotations_path)\n",
    "    frame_idx = 0\n",
    "    \n",
    "    while cap.isOpened():\n",
    "        ret, frame = cap.read()\n",
    "        if not ret:\n",
    "            break\n",
    "        if frame_idx < 535:\n",
    "            frame_idx += 1\n",
    "            continue\n",
    "        \n",
    "        detections = data[frame_idx-535]\n",
    "        tracker.update(detections, tracker.gt_detections[frame_idx-535])\n",
    "        frame = tracker.draw_tracks(frame)\n",
    "        out.write(frame)\n",
    "        \n",
    "        frame_idx += 1\n",
    "\n",
    "    cap.release()\n",
    "    out.release()\n",
    "    cv2.destroyAllWindows()\n",
    "    \n",
    "    tracker.tracking_data[\"num_tracker_ids\"] = tracker.next_id\n",
    "    \n",
    "    with open(tracking_output, 'wb') as f:\n",
    "        pkl.dump(tracker.tracking_data, f)\n"
   ]
  },
  {
   "cell_type": "code",
   "execution_count": 3,
   "metadata": {},
   "outputs": [],
   "source": [
    "process_video('/Users/abriil/Uni/master/C6/Project1/data/AICity_data/train/S03/c010/vdo.avi', '/Users/abriil/Uni/master/C6/Project1/data/ai_challenge_s03_c010-full_annotation.xml', 'preds_pred_off-shelf.pkl', 'output_video.avi', 'tracking_outputs_bo.pkl')"
   ]
  },
  {
   "cell_type": "code",
   "execution_count": 4,
   "metadata": {},
   "outputs": [],
   "source": [
    "with open('/Users/abriil/Uni/master/C6/Project1/mcv-c6-2025-team2/week2/tracking/tracking_outputs_bo.pkl', 'rb') as f:\n",
    "        t_out = pkl.load(f)\n",
    "        t_out['num_gt_ids'] = t_out['num_gt_ids'][0]\n",
    "        #t_out['gt_ids'] = t_out['gt_ids'][535:]"
   ]
  },
  {
   "cell_type": "code",
   "execution_count": 5,
   "metadata": {},
   "outputs": [],
   "source": [
    "from TrackEval.hota import HOTA"
   ]
  },
  {
   "cell_type": "code",
   "execution_count": 6,
   "metadata": {},
   "outputs": [],
   "source": [
    "h = HOTA()"
   ]
  },
  {
   "cell_type": "code",
   "execution_count": 8,
   "metadata": {},
   "outputs": [
    {
     "data": {
      "text/plain": [
       "{'HOTA': array([0.27518306, 0.27457751, 0.27428683, 0.27353913, 0.27283019,\n",
       "        0.27159804, 0.26807204, 0.25354993, 0.24241644, 0.24048252,\n",
       "        0.23927573, 0.23829021, 0.23609038, 0.23355395, 0.23201283,\n",
       "        0.23082694, 0.22672459, 0.17422648, 0.12698694]),\n",
       " 'DetA': array([0.67885859, 0.67622382, 0.67480852, 0.67087846, 0.66586683,\n",
       "        0.65840549, 0.63046031, 0.51005982, 0.40224197, 0.38884721,\n",
       "        0.38234855, 0.37591042, 0.35642065, 0.33298133, 0.31980419,\n",
       "        0.31275409, 0.29796681, 0.18009519, 0.08324232]),\n",
       " 'AssA': array([0.11154859, 0.11149091, 0.11148832, 0.11153086, 0.11178859,\n",
       "        0.11203657, 0.11398437, 0.12603927, 0.14609547, 0.14872639,\n",
       "        0.14974   , 0.15105254, 0.15638451, 0.16381533, 0.1683216 ,\n",
       "        0.17036092, 0.172516  , 0.16854901, 0.19371978]),\n",
       " 'DetRe': array([0.68657903, 0.6849893 , 0.68413329, 0.6817487 , 0.67869153,\n",
       "        0.67410578, 0.65655763, 0.57352492, 0.48706817, 0.47538979,\n",
       "        0.46964231, 0.46389483, 0.44616325, 0.42415164, 0.41143381,\n",
       "        0.40452461, 0.38978906, 0.25912565, 0.13047998]),\n",
       " 'DetPr': array([0.98370565, 0.98142795, 0.98020149, 0.97678493, 0.97240473,\n",
       "        0.96583443, 0.94069207, 0.8217258 , 0.6978537 , 0.68112133,\n",
       "        0.67288655, 0.66465177, 0.63924661, 0.60770915, 0.58948752,\n",
       "        0.57958826, 0.55847569, 0.37126588, 0.186947  ]),\n",
       " 'AssRe': array([0.17430856, 0.17420314, 0.17417818, 0.17423938, 0.17462628,\n",
       "        0.17486961, 0.17818664, 0.19904956, 0.23152338, 0.2354738 ,\n",
       "        0.23634418, 0.23813681, 0.24637029, 0.25788639, 0.2644835 ,\n",
       "        0.26733384, 0.26881186, 0.26400991, 0.30960874]),\n",
       " 'AssPr': array([0.38419786, 0.38401396, 0.38393462, 0.3838172 , 0.38404786,\n",
       "        0.38448551, 0.38407232, 0.36438889, 0.37307297, 0.37661227,\n",
       "        0.37827977, 0.37857537, 0.36470783, 0.35167105, 0.35073814,\n",
       "        0.35263635, 0.35390608, 0.31252064, 0.30580104]),\n",
       " 'LocA': array([0.72969346, 0.73120794, 0.73197458, 0.73390723, 0.73619768,\n",
       "        0.73932479, 0.75012149, 0.8035904 , 0.87190565, 0.88182807,\n",
       "        0.88618691, 0.89003356, 0.90041044, 0.91216798, 0.9180584 ,\n",
       "        0.92048732, 0.92395398, 0.94610892, 0.9658241 ]),\n",
       " 'OWTA': array([0.27674342, 0.27635137, 0.27617543, 0.2757463 , 0.27544504,\n",
       "        0.27481722, 0.27356408, 0.26886179, 0.26675542, 0.26590037,\n",
       "        0.26518718, 0.26471209, 0.26414583, 0.26359541, 0.26316002,\n",
       "        0.26251702, 0.25931611, 0.20898653, 0.15898601]),\n",
       " 'HOTA_TP': array([11229., 11203., 11189., 11150., 11100., 11025., 10738.,  9380.,\n",
       "         7966.,  7775.,  7681.,  7587.,  7297.,  6937.,  6729.,  6616.,\n",
       "         6375.,  4238.,  2134.]),\n",
       " 'HOTA_FN': array([ 5126.,  5152.,  5166.,  5205.,  5255.,  5330.,  5617.,  6975.,\n",
       "         8389.,  8580.,  8674.,  8768.,  9058.,  9418.,  9626.,  9739.,\n",
       "         9980., 12117., 14221.]),\n",
       " 'HOTA_FP': array([ 186.,  212.,  226.,  265.,  315.,  390.,  677., 2035., 3449.,\n",
       "        3640., 3734., 3828., 4118., 4478., 4686., 4799., 5040., 7177.,\n",
       "        9281.]),\n",
       " 'HOTA(0)': 0.27518306263272274,\n",
       " 'LocA(0)': 0.7296934557770579,\n",
       " 'HOTALocA(0)': 0.20079927994378602}"
      ]
     },
     "execution_count": 8,
     "metadata": {},
     "output_type": "execute_result"
    }
   ],
   "source": [
    "h.eval_sequence(t_out)"
   ]
  },
  {
   "cell_type": "code",
   "execution_count": 9,
   "metadata": {},
   "outputs": [],
   "source": [
    "from TrackEval.identity import Identity"
   ]
  },
  {
   "cell_type": "code",
   "execution_count": 10,
   "metadata": {},
   "outputs": [
    {
     "name": "stdout",
     "output_type": "stream",
     "text": [
      "\n",
      "Identity Config:\n",
      "THRESHOLD            : 0.5                           \n",
      "PRINT_CONFIG         : True                          \n"
     ]
    }
   ],
   "source": [
    "iden = Identity()"
   ]
  },
  {
   "cell_type": "code",
   "execution_count": 11,
   "metadata": {},
   "outputs": [
    {
     "data": {
      "text/plain": [
       "{'IDF1': 0.19632697155203457,\n",
       " 'IDR': 0.16667685723020484,\n",
       " 'IDP': 0.23880858519491896,\n",
       " 'IDTP': 2726,\n",
       " 'IDFN': 13629,\n",
       " 'IDFP': 8689}"
      ]
     },
     "execution_count": 11,
     "metadata": {},
     "output_type": "execute_result"
    }
   ],
   "source": [
    "iden.eval_sequence(t_out)"
   ]
  }
 ],
 "metadata": {
  "kernelspec": {
   "display_name": "c6",
   "language": "python",
   "name": "python3"
  },
  "language_info": {
   "codemirror_mode": {
    "name": "ipython",
    "version": 3
   },
   "file_extension": ".py",
   "mimetype": "text/x-python",
   "name": "python",
   "nbconvert_exporter": "python",
   "pygments_lexer": "ipython3",
   "version": "3.12.0"
  }
 },
 "nbformat": 4,
 "nbformat_minor": 2
}
